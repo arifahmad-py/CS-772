{
 "cells": [
  {
   "attachments": {},
   "cell_type": "markdown",
   "metadata": {},
   "source": [
    "# Assignment 2 - Part 2\n",
    "POS Tagging with feed forward Neural Network with 5-fold cross validation"
   ]
  },
  {
   "cell_type": "code",
   "execution_count": 1,
   "metadata": {},
   "outputs": [
    {
     "name": "stdout",
     "output_type": "stream",
     "text": [
      "/home/development/arif/.conda/envs/stable/bin/python3\n"
     ]
    }
   ],
   "source": [
    "!which python3"
   ]
  },
  {
   "cell_type": "code",
   "execution_count": 2,
   "metadata": {},
   "outputs": [
    {
     "name": "stdout",
     "output_type": "stream",
     "text": [
      "/home/development/arif/.conda/envs/stable/bin/pip\n"
     ]
    }
   ],
   "source": [
    "! which pip"
   ]
  },
  {
   "attachments": {},
   "cell_type": "markdown",
   "metadata": {},
   "source": [
    "## Importing Libraries"
   ]
  },
  {
   "cell_type": "code",
   "execution_count": 3,
   "metadata": {},
   "outputs": [],
   "source": [
    "import nltk\n",
    "from nltk.corpus import brown\n",
    "import numpy as np\n",
    "import torch\n",
    "import random\n",
    "import os\n",
    "from torch import nn\n",
    "from tqdm import tqdm"
   ]
  },
  {
   "attachments": {},
   "cell_type": "markdown",
   "metadata": {},
   "source": [
    "Seeding randomness"
   ]
  },
  {
   "cell_type": "code",
   "execution_count": 4,
   "metadata": {},
   "outputs": [],
   "source": [
    "seed = 42\n",
    "np.random.seed(seed)\n",
    "torch.manual_seed(seed)\n",
    "torch.cuda.manual_seed(seed)\n",
    "random.seed(seed)"
   ]
  },
  {
   "cell_type": "code",
   "execution_count": 5,
   "metadata": {},
   "outputs": [
    {
     "data": {
      "text/plain": [
       "57340"
      ]
     },
     "execution_count": 5,
     "metadata": {},
     "output_type": "execute_result"
    }
   ],
   "source": [
    "len(brown.sents())"
   ]
  },
  {
   "cell_type": "code",
   "execution_count": 6,
   "metadata": {},
   "outputs": [
    {
     "data": {
      "text/plain": [
       "56057"
      ]
     },
     "execution_count": 6,
     "metadata": {},
     "output_type": "execute_result"
    }
   ],
   "source": [
    "len(set(brown.words()))"
   ]
  },
  {
   "cell_type": "code",
   "execution_count": 136,
   "metadata": {},
   "outputs": [
    {
     "name": "stdout",
     "output_type": "stream",
     "text": [
      "57340\n",
      "[('The', 'DET'), ('Fulton', 'NOUN'), ('County', 'NOUN'), ('Grand', 'ADJ'), ('Jury', 'NOUN'), ('said', 'VERB'), ('Friday', 'NOUN'), ('an', 'DET'), ('investigation', 'NOUN'), ('of', 'ADP'), (\"Atlanta's\", 'NOUN'), ('recent', 'ADJ'), ('primary', 'NOUN'), ('election', 'NOUN'), ('produced', 'VERB'), ('``', '.'), ('no', 'DET'), ('evidence', 'NOUN'), (\"''\", '.'), ('that', 'ADP'), ('any', 'DET'), ('irregularities', 'NOUN'), ('took', 'VERB'), ('place', 'NOUN'), ('.', '.')]\n"
     ]
    }
   ],
   "source": [
    "dataset = brown.tagged_sents(tagset='universal')\n",
    "print(len(dataset))\n",
    "for sent in dataset[:1]:\n",
    "    print(sent)"
   ]
  },
  {
   "attachments": {},
   "cell_type": "markdown",
   "metadata": {},
   "source": [
    "## Data Exploration"
   ]
  },
  {
   "cell_type": "code",
   "execution_count": 8,
   "metadata": {},
   "outputs": [],
   "source": [
    "import re, string, unicodedata\n",
    "import nltk\n",
    "import contractions\n",
    "import inflect\n",
    "from bs4 import BeautifulSoup\n",
    "from nltk import word_tokenize, sent_tokenize\n",
    "from nltk.corpus import stopwords\n",
    "from nltk.stem import LancasterStemmer, WordNetLemmatizer\n",
    "\n",
    "\n",
    "def remove_non_ascii(words):\n",
    "    \"\"\"Remove non-ASCII characters from list of tokenized words\"\"\"\n",
    "    new_words = []\n",
    "    for word in words:\n",
    "        new_word = unicodedata.normalize('NFKD', word).encode('ascii', 'ignore').decode('utf-8', 'ignore')\n",
    "        new_words.append(new_word)\n",
    "    return new_words\n",
    "\n",
    "def to_lowercase(words):\n",
    "    \"\"\"Convert all characters to lowercase from list of tokenized words\"\"\"\n",
    "    new_words = []\n",
    "    for word in words:\n",
    "        new_word = word.lower()\n",
    "        new_words.append(new_word)\n",
    "    return new_words\n",
    "\n",
    "def remove_punctuation(words):\n",
    "    \"\"\"Remove punctuation from list of tokenized words\"\"\"\n",
    "    new_words = []\n",
    "    for word in words:\n",
    "        new_word = re.sub(r'[^\\w\\s]', '', word)\n",
    "        if new_word != '':\n",
    "            new_words.append(new_word)\n",
    "    return new_words\n",
    "\n",
    "def replace_numbers(words):\n",
    "    \"\"\"Replace all interger occurrences in list of tokenized words with textual representation\"\"\"\n",
    "    p = inflect.engine()\n",
    "    new_words = []\n",
    "    for word in words:\n",
    "        if word.isdigit():\n",
    "            new_word = p.number_to_words(word)\n",
    "            new_words.append(new_word)\n",
    "        else:\n",
    "            new_words.append(word)\n",
    "    return new_words\n",
    "\n",
    "def remove_stopwords(words):\n",
    "    \"\"\"Remove stop words from list of tokenized words\"\"\"\n",
    "    new_words = []\n",
    "    for word in words:\n",
    "        if word not in stopwords.words('english'):\n",
    "            new_words.append(word)\n",
    "    return new_words\n",
    "\n",
    "def stem_words(words):\n",
    "    \"\"\"Stem words in list of tokenized words\"\"\"\n",
    "    stemmer = LancasterStemmer()\n",
    "    stems = []\n",
    "    for word in words:\n",
    "        stem = stemmer.stem(word)\n",
    "        stems.append(stem)\n",
    "    return stems\n",
    "\n",
    "def lemmatize_verbs(words):\n",
    "    \"\"\"Lemmatize verbs in list of tokenized words\"\"\"\n",
    "    lemmatizer = WordNetLemmatizer()\n",
    "    lemmas = []\n",
    "    for word in words:\n",
    "        lemma = lemmatizer.lemmatize(word, pos='v')\n",
    "        lemmas.append(lemma)\n",
    "    return lemmas\n",
    "\n",
    "def normalize(words):\n",
    "    words = remove_non_ascii(words)\n",
    "    words = to_lowercase(words)\n",
    "    return words"
   ]
  },
  {
   "cell_type": "code",
   "execution_count": 9,
   "metadata": {},
   "outputs": [
    {
     "name": "stdout",
     "output_type": "stream",
     "text": [
      "POS tags are:\n",
      "['PRT', 'NUM', 'VERB', 'ADP', 'CONJ', 'PRON', 'X', 'ADV', 'ADJ', '.', 'NOUN', 'DET']\n",
      "Number of POS tags are: 12\n"
     ]
    }
   ],
   "source": [
    "_, tags = zip(*[pair for sent in dataset for pair in sent])\n",
    "universal_tags = list(set(tags))\n",
    "del tags\n",
    "print(f\"POS tags are:\\n{universal_tags}\\nNumber of POS tags are: {len(universal_tags)}\")"
   ]
  },
  {
   "cell_type": "code",
   "execution_count": 10,
   "metadata": {},
   "outputs": [],
   "source": [
    "from nltk.tag import untag"
   ]
  },
  {
   "attachments": {},
   "cell_type": "markdown",
   "metadata": {},
   "source": [
    "Seperating sentences and their tags"
   ]
  },
  {
   "cell_type": "code",
   "execution_count": 11,
   "metadata": {},
   "outputs": [
    {
     "data": {
      "text/plain": [
       "(57340, 57340)"
      ]
     },
     "execution_count": 11,
     "metadata": {},
     "output_type": "execute_result"
    }
   ],
   "source": [
    "sentences = [untag(sent) for sent in dataset]\n",
    "pos_tags = [list(list(zip(*sent))[1]) for sent in dataset]\n",
    "\n",
    "len(sentences), len(pos_tags)"
   ]
  },
  {
   "attachments": {},
   "cell_type": "markdown",
   "metadata": {},
   "source": [
    "Looking at data"
   ]
  },
  {
   "cell_type": "code",
   "execution_count": 12,
   "metadata": {},
   "outputs": [],
   "source": [
    "import pandas as pd\n",
    "from IPython.display import display, HTML\n",
    "\n",
    "def show_random_elements(dataset, num_examples=10):\n",
    "    assert num_examples <= len(dataset), \"Can't pick more elements than there are in the dataset.\"\n",
    "    picks = []\n",
    "    for _ in range(num_examples):\n",
    "        pick = random.randint(0, len(dataset)-1)\n",
    "        while pick in picks:\n",
    "            pick = random.randint(0, len(dataset)-1)\n",
    "        picks.append(pick)\n",
    "    \n",
    "    df = dataset.iloc[picks]\n",
    "    display(HTML(df.to_html()))"
   ]
  },
  {
   "cell_type": "code",
   "execution_count": 13,
   "metadata": {},
   "outputs": [
    {
     "data": {
      "text/html": [
       "<table border=\"1\" class=\"dataframe\">\n",
       "  <thead>\n",
       "    <tr style=\"text-align: right;\">\n",
       "      <th></th>\n",
       "      <th>sentences</th>\n",
       "      <th>pos_tags</th>\n",
       "    </tr>\n",
       "  </thead>\n",
       "  <tbody>\n",
       "    <tr>\n",
       "      <th>41905</th>\n",
       "      <td>[When, Linda, Kay, had, put, up, her, breakfast, dishes, and, mopped, her, linoleum, rugs, ,, she, would, go, to, the, Big, House, .]</td>\n",
       "      <td>[ADV, NOUN, NOUN, VERB, VERB, PRT, DET, NOUN, NOUN, CONJ, VERB, DET, NOUN, NOUN, ., PRON, VERB, VERB, ADP, DET, ADJ, NOUN, .]</td>\n",
       "    </tr>\n",
       "    <tr>\n",
       "      <th>7296</th>\n",
       "      <td>[The, critics', campaign, finally, inspired, the, first, major, U.S., exhibit, of, Schiele's, works, .]</td>\n",
       "      <td>[DET, NOUN, NOUN, ADV, VERB, DET, ADJ, ADJ, NOUN, NOUN, ADP, NOUN, NOUN, .]</td>\n",
       "    </tr>\n",
       "    <tr>\n",
       "      <th>1639</th>\n",
       "      <td>[You, can, get, into, an, argument, about, fallout, shelters, at, the, drop, of, a, beer, stein, in, clubs, and, pubs, these, nights, .]</td>\n",
       "      <td>[PRON, VERB, VERB, ADP, DET, NOUN, ADP, NOUN, NOUN, ADP, DET, NOUN, ADP, DET, NOUN, NOUN, ADP, NOUN, CONJ, NOUN, DET, NOUN, .]</td>\n",
       "    </tr>\n",
       "    <tr>\n",
       "      <th>48598</th>\n",
       "      <td>[``, To, me, you'll, always, be, the, girl, o', my, dreams, ,, an', the, sweetest, flower, that, grows, '', .]</td>\n",
       "      <td>[., ADP, PRON, PRT, ADV, VERB, DET, NOUN, ADP, DET, NOUN, ., CONJ, DET, ADJ, NOUN, DET, VERB, ., .]</td>\n",
       "    </tr>\n",
       "    <tr>\n",
       "      <th>18024</th>\n",
       "      <td>[Another, poultice, was, made, from, the, inner, bark, of, the, elm, tree, ,, steeped, in, water, until, it, formed, a, sticky, ,, gummy, solution, .]</td>\n",
       "      <td>[DET, NOUN, VERB, VERB, ADP, DET, ADJ, NOUN, ADP, DET, NOUN, NOUN, ., VERB, ADP, NOUN, ADP, PRON, VERB, DET, ADJ, ., ADJ, NOUN, .]</td>\n",
       "    </tr>\n",
       "    <tr>\n",
       "      <th>16049</th>\n",
       "      <td>[When, a, husband, is, sexually, selfish, and, heedless, of, his, wife's, desires, ,, she, is, cheated, of, the, fulfillment, and, pleasure, nature, intended, for, her, .]</td>\n",
       "      <td>[ADV, DET, NOUN, VERB, ADV, ADJ, CONJ, ADJ, ADP, DET, NOUN, NOUN, ., PRON, VERB, VERB, ADP, DET, NOUN, CONJ, NOUN, NOUN, VERB, ADP, PRON, .]</td>\n",
       "    </tr>\n",
       "    <tr>\n",
       "      <th>14628</th>\n",
       "      <td>[These, include, :, leaves, of, absences, ,, illnesses, ,, and, layoffs, .]</td>\n",
       "      <td>[DET, VERB, ., NOUN, ADP, NOUN, ., NOUN, ., CONJ, NOUN, .]</td>\n",
       "    </tr>\n",
       "    <tr>\n",
       "      <th>9144</th>\n",
       "      <td>[More, and, more, boats, move, overland, on, wheels, (, 1.8, million, trailers, are, now, in, use, ), and, Midwesterners, taking, long, weekends, can, travel, south, with, their, craft, .]</td>\n",
       "      <td>[ADJ, CONJ, ADJ, NOUN, VERB, ADV, ADP, NOUN, ., NUM, NUM, NOUN, VERB, ADV, ADP, NOUN, ., CONJ, NOUN, VERB, ADJ, NOUN, VERB, VERB, NOUN, ADP, DET, NOUN, .]</td>\n",
       "    </tr>\n",
       "    <tr>\n",
       "      <th>48265</th>\n",
       "      <td>[Why, had, I, registered, ?, ?]</td>\n",
       "      <td>[ADV, VERB, PRON, VERB, ., .]</td>\n",
       "    </tr>\n",
       "    <tr>\n",
       "      <th>6717</th>\n",
       "      <td>[At, Khrushchev's, door, ,, therefore, ,, can, be, placed, the, primary, blame, but, also, at, fault, are, those, who, permitted, themselves, to, be, intimidated, .]</td>\n",
       "      <td>[ADP, NOUN, NOUN, ., ADV, ., VERB, VERB, VERB, DET, ADJ, NOUN, CONJ, ADV, ADP, NOUN, VERB, DET, PRON, VERB, PRON, PRT, VERB, VERB, .]</td>\n",
       "    </tr>\n",
       "  </tbody>\n",
       "</table>"
      ],
      "text/plain": [
       "<IPython.core.display.HTML object>"
      ]
     },
     "metadata": {},
     "output_type": "display_data"
    }
   ],
   "source": [
    "df = pd.DataFrame.from_dict({\n",
    "    \"sentences\" : sentences,\n",
    "    \"pos_tags\" : pos_tags\n",
    "})\n",
    "show_random_elements(df)"
   ]
  },
  {
   "attachments": {},
   "cell_type": "markdown",
   "metadata": {},
   "source": [
    "## Download word vectors"
   ]
  },
  {
   "cell_type": "code",
   "execution_count": 14,
   "metadata": {},
   "outputs": [],
   "source": [
    "# import urllib.request\n",
    "# import zipfile\n",
    "\n",
    "# url = \"https://dl.fbaipublicfiles.com/fasttext/vectors-english/crawl-300d-2M.vec.zip\"\n",
    "# filename = \"crawl-300d-2M.vec.zip\"\n",
    "\n",
    "# # Download the zip file\n",
    "# urllib.request.urlretrieve(url, filename)\n",
    "\n",
    "# # Extract the contents of the zip file\n",
    "# with zipfile.ZipFile(filename, 'r') as zip_ref:\n",
    "#     zip_ref.extractall('.')"
   ]
  },
  {
   "cell_type": "code",
   "execution_count": 15,
   "metadata": {},
   "outputs": [],
   "source": [
    "with open(\"crawl-300d-2M.vec\", \"r\") as vectors_file:\n",
    "    file_content = vectors_file.read().splitlines()"
   ]
  },
  {
   "cell_type": "code",
   "execution_count": 16,
   "metadata": {},
   "outputs": [
    {
     "name": "stdout",
     "output_type": "stream",
     "text": [
      "1st line in the above file, file_content tells the number of words for which the file has embeddings followed by the dimensions of the embeddings.\n",
      "1999995 300\n"
     ]
    }
   ],
   "source": [
    "print(f\"1st line in the above file, file_content tells the number of words for which the file has embeddings followed by the dimensions of the embeddings.\")\n",
    "print(file_content[0])"
   ]
  },
  {
   "cell_type": "code",
   "execution_count": 17,
   "metadata": {},
   "outputs": [
    {
     "name": "stdout",
     "output_type": "stream",
     "text": [
      "The rest of the lines have a word at every line followed by 300 numbers for the 300d word embeddings of the word, a sample is shown below.\n",
      "Wreck-It -0.2941 -0.0440 0.6280 0.3474 0.5014 -1.0144 0.5379 -0.2273 -0.0119 -0.2189 0.0294 1.2556 -0.1439 0.2246 0.0659 -0.0031 0.1349 0.3719 -0.5852 -0.3380 0.4387 0.4592 0.3349 -0.4750 -0.3464 0.6705 -0.5252 0.3864 -0.1200 0.1228 -0.1977 0.9876 0.3050 0.2154 0.8681 -0.2432 0.0239 -0.2227 -0.3440 0.5673 0.7380 0.1509 0.0166 0.6669 -0.4747 0.2333 0.0375 0.7208 -0.4009 -0.3855 0.2377 0.2651 1.1744 -0.5010 -0.0412 0.3804 0.2547 0.2091 -0.4663 0.0147 -0.5130 -0.1848 0.1726 0.3357 0.8713 0.7080 0.8966 -0.8118 0.0568 -0.5825 -0.6531 0.2765 -0.1806 0.2960 0.4276 0.3042 -0.2592 0.2431 -0.3561 -0.0708 0.5813 0.2686 0.4225 -0.1953 0.4349 -0.3406 0.0300 -0.5246 -0.1651 -0.4520 0.1233 0.1704 -0.0815 0.2655 -0.2337 -0.4135 -0.0224 0.5407 0.0084 -0.2461 -0.2733 0.2132 -0.0585 -0.1620 0.3127 -0.3421 -0.7229 0.6596 0.4628 -0.2809 -0.4614 0.0984 0.4248 -0.7097 -0.6926 -0.2865 -0.2062 0.1679 0.5525 1.1290 0.4129 -0.0405 -0.3346 0.5831 0.0978 0.5933 0.3822 0.0782 0.5366 0.0893 0.1838 -0.3765 -0.1353 -0.2665 0.2884 0.0338 0.3135 0.3790 0.0613 -1.1838 0.7059 -0.0032 -0.7622 -0.0853 0.1068 0.1581 0.0458 -0.3253 0.5998 -0.0966 -0.3853 -0.3784 -0.3247 -0.2576 -0.1264 -0.1625 -0.4903 0.0068 0.0494 -0.2624 0.4401 -0.3206 -0.2813 -0.8219 -0.0642 -0.3398 -0.4013 0.0047 0.5654 -0.0131 0.2542 0.7568 -0.0900 -0.1934 -0.2259 0.0175 -0.1163 -0.5619 0.3204 -0.2209 -0.4131 -0.3155 0.3351 -0.3892 0.2301 0.3221 0.6421 0.0404 0.2047 -0.1865 -0.0301 -0.1017 0.8583 -0.2083 0.0215 -0.2059 0.3847 -0.4732 -0.0813 0.3973 0.0370 0.7586 -0.2466 -0.1258 -0.2439 0.1726 -0.6203 0.2324 0.3644 -0.1661 0.4178 0.7222 0.0595 0.1415 -0.2501 -0.0563 -0.4324 -0.3738 -0.6433 0.5802 0.0708 0.1372 0.2733 0.5993 0.0704 -0.1506 -0.1654 -0.1691 0.2999 0.9661 0.1036 0.0590 -0.2831 0.2441 0.3117 -0.5550 -0.5624 0.3262 -0.1758 0.4945 0.0192 0.2376 0.0736 0.2961 0.2882 -0.0147 -0.0382 -0.5705 0.0426 -0.4484 0.3738 0.3013 0.3638 -0.5417 -0.2380 -0.2479 0.5896 -0.1416 0.1045 -0.3489 0.3540 0.4003 0.2967 -0.8028 -0.4608 0.4359 0.4934 0.4434 0.3757 0.0643 0.4889 -0.2141 -0.2113 0.0666 -0.2011 0.4473 -0.0421 0.0789 0.2993 0.1816 0.7716 -0.2896 -0.5658 -0.3240 0.6860 -0.2534 0.8589 0.4585 -0.0724 -0.0139 0.6477 -0.0292 0.0980 -0.2820 0.2774 0.7660 -0.1910 -0.1462 -0.1695 -0.3359\n"
     ]
    }
   ],
   "source": [
    "print(f\"The rest of the lines have a word at every line followed by 300 numbers for the 300d word embeddings of the word, a sample is shown below.\")\n",
    "print(file_content[424242])"
   ]
  },
  {
   "attachments": {},
   "cell_type": "markdown",
   "metadata": {},
   "source": [
    "Making a dictionary mapping from the word to the embedding, called `word2embedding`."
   ]
  },
  {
   "cell_type": "code",
   "execution_count": 18,
   "metadata": {},
   "outputs": [],
   "source": [
    "word2embedding = dict()\n",
    "for line in file_content[1:]:\n",
    "    word2embedding[line.split()[0]] = torch.tensor(list(map(float, line.split()[1:])))\n",
    "    \n",
    "vocab = list(word2embedding.keys())"
   ]
  },
  {
   "attachments": {},
   "cell_type": "markdown",
   "metadata": {},
   "source": [
    "As `file_content` is a large variable that is no longer needed, we delete it."
   ]
  },
  {
   "cell_type": "code",
   "execution_count": 19,
   "metadata": {},
   "outputs": [],
   "source": [
    "del file_content"
   ]
  },
  {
   "attachments": {},
   "cell_type": "markdown",
   "metadata": {},
   "source": [
    "Checking for duplication is vocabulary `vocab`"
   ]
  },
  {
   "cell_type": "code",
   "execution_count": 20,
   "metadata": {},
   "outputs": [
    {
     "data": {
      "text/plain": [
       "(1999995, 1999995)"
      ]
     },
     "execution_count": 20,
     "metadata": {},
     "output_type": "execute_result"
    }
   ],
   "source": [
    "len(vocab), len(set(vocab))"
   ]
  },
  {
   "attachments": {},
   "cell_type": "markdown",
   "metadata": {},
   "source": [
    "Notice that same word can have different embeddings for its capitalized and non-capitalized versions."
   ]
  },
  {
   "cell_type": "code",
   "execution_count": null,
   "metadata": {},
   "outputs": [],
   "source": [
    "word2embedding['The']"
   ]
  },
  {
   "cell_type": "code",
   "execution_count": null,
   "metadata": {},
   "outputs": [],
   "source": [
    "word2embedding['the']"
   ]
  },
  {
   "cell_type": "code",
   "execution_count": 23,
   "metadata": {},
   "outputs": [
    {
     "data": {
      "text/plain": [
       "torch.float32"
      ]
     },
     "execution_count": 23,
     "metadata": {},
     "output_type": "execute_result"
    }
   ],
   "source": [
    "# Looking at data type of embedding to be sure\n",
    "word2embedding['the'].dtype"
   ]
  },
  {
   "attachments": {},
   "cell_type": "markdown",
   "metadata": {},
   "source": [
    "Checking if we have word embeddings for individual letters and symbols"
   ]
  },
  {
   "cell_type": "code",
   "execution_count": 24,
   "metadata": {},
   "outputs": [
    {
     "name": "stdout",
     "output_type": "stream",
     "text": [
      "We have following individual characters:\n",
      "['!', '\"', '#', '$', '%', '&', \"'\", '(', ')', '*', '+', ',', '-', '.', '/', ':', ';', '<', '=', '>', '?', '@', '[', '\\\\', ']', '^', '_', '`', '{', '|', '}', '~', '0', '1', '2', '3', '4', '5', '6', '7', '8', '9', 'a', 'b', 'c', 'd', 'e', 'f', 'g', 'h', 'i', 'j', 'k', 'l', 'm', 'n', 'o', 'p', 'q', 'r', 's', 't', 'u', 'v', 'w', 'x', 'y', 'z', 'A', 'B', 'C', 'D', 'E', 'F', 'G', 'H', 'I', 'J', 'K', 'L', 'M', 'N', 'O', 'P', 'Q', 'R', 'S', 'T', 'U', 'V', 'W', 'X', 'Y', 'Z']\n",
      "from which only characters ['_', '`'] donot have embeddings in word2embedding.\n"
     ]
    }
   ],
   "source": [
    "import string\n",
    "\n",
    "list_of_all = [x for x in string.punctuation] + [x for x in string.digits] + [x for x in string.ascii_letters]\n",
    "not_present = list()\n",
    "for item in list_of_all:\n",
    "    if item not in vocab:\n",
    "        not_present.append(item)\n",
    "\n",
    "print(f\"We have following individual characters:\\n{list_of_all}\\nfrom which only characters {not_present} donot have embeddings in word2embedding.\")"
   ]
  },
  {
   "cell_type": "code",
   "execution_count": null,
   "metadata": {},
   "outputs": [],
   "source": []
  },
  {
   "attachments": {},
   "cell_type": "markdown",
   "metadata": {},
   "source": [
    "## Preparing data for training"
   ]
  },
  {
   "cell_type": "code",
   "execution_count": 27,
   "metadata": {},
   "outputs": [
    {
     "name": "stdout",
     "output_type": "stream",
     "text": [
      "cuda:3\n"
     ]
    }
   ],
   "source": [
    "# Make device agnostic code\n",
    "device = \"cuda:3\" if torch.cuda.is_available() else \"cpu\"\n",
    "print(device)"
   ]
  },
  {
   "cell_type": "code",
   "execution_count": 28,
   "metadata": {},
   "outputs": [],
   "source": [
    "window_size = 1\n",
    "X = list()\n",
    "y = list()\n",
    "\n",
    "null_token = \"[NULL_TOKEN]\"\n",
    "for sentence, pos_tags in zip(sentences, pos_tags):\n",
    "    for i in range(len(sentence)):\n",
    "        y.append(pos_tags[i])\n",
    "        padded_sentence = [null_token] * window_size + sentence + [null_token] * window_size\n",
    "        X.append(padded_sentence[i : i + 2*window_size + 1])"
   ]
  },
  {
   "cell_type": "code",
   "execution_count": 29,
   "metadata": {},
   "outputs": [
    {
     "data": {
      "text/plain": [
       "([['[NULL_TOKEN]', 'The', 'Fulton'],\n",
       "  ['The', 'Fulton', 'County'],\n",
       "  ['Fulton', 'County', 'Grand'],\n",
       "  ['County', 'Grand', 'Jury'],\n",
       "  ['Grand', 'Jury', 'said']],\n",
       " ['DET', 'NOUN', 'NOUN', 'ADJ', 'NOUN'])"
      ]
     },
     "execution_count": 29,
     "metadata": {},
     "output_type": "execute_result"
    }
   ],
   "source": [
    "X[:5], y[:5]"
   ]
  },
  {
   "attachments": {},
   "cell_type": "markdown",
   "metadata": {},
   "source": [
    "Setting `[NULL_TOKEN]` embeddings as all zeros"
   ]
  },
  {
   "cell_type": "code",
   "execution_count": 30,
   "metadata": {},
   "outputs": [],
   "source": [
    "word2embedding[null_token] = torch.zeros_like(word2embedding['The'])"
   ]
  },
  {
   "cell_type": "code",
   "execution_count": null,
   "metadata": {},
   "outputs": [],
   "source": [
    "word2embedding[null_token], word2embedding[null_token].dtype"
   ]
  },
  {
   "attachments": {},
   "cell_type": "markdown",
   "metadata": {},
   "source": [
    "### Code for handling embeddings of words not in the word embeddings file"
   ]
  },
  {
   "cell_type": "code",
   "execution_count": 32,
   "metadata": {},
   "outputs": [
    {
     "name": "stdout",
     "output_type": "stream",
     "text": [
      "Hey I Yann, how you and how it going ? That interesting: I love to hear more about it.\n"
     ]
    }
   ],
   "source": [
    "import re\n",
    "\n",
    "def decontracted(phrase):\n",
    "    # general\n",
    "    phrase = re.sub(r\"n\\'t\", \"\", phrase)\n",
    "    phrase = re.sub(r\"\\'re\", \"\", phrase)\n",
    "    phrase = re.sub(r\"\\'s\", \"\", phrase)\n",
    "    phrase = re.sub(r\"\\'d\", \"\", phrase)\n",
    "    phrase = re.sub(r\"\\'ll\", \"\", phrase)\n",
    "    phrase = re.sub(r\"\\'t\", \"\", phrase)\n",
    "    phrase = re.sub(r\"\\'ve\", \"\", phrase)\n",
    "    phrase = re.sub(r\"\\'m\", \"\", phrase)\n",
    "    phrase = re.sub(r\"\\'$\", \"\", phrase)\n",
    "    return phrase\n",
    "\n",
    "\n",
    "test = \"Hey I'm Yann, how're you and how's it going ? That's interesting: I'd love to hear more about it.\"\n",
    "print(decontracted(test))"
   ]
  },
  {
   "cell_type": "code",
   "execution_count": 33,
   "metadata": {},
   "outputs": [],
   "source": [
    "word2embedding[\"``\"] = word2embedding[\"'\"]\n",
    "word2embedding[\"''\"] = word2embedding[\"'\"]\n",
    "word2embedding[not_present[0]] = word2embedding[\"-\"]"
   ]
  },
  {
   "cell_type": "code",
   "execution_count": 34,
   "metadata": {},
   "outputs": [],
   "source": [
    "import re\n",
    "# Define a regular expression pattern\n",
    "# Pattern to check if a number only has digits, dollar signs, and commas.\n",
    "\n",
    "non_alphabet_pattern = r'^[^a-zA-Z]+$'\n",
    "non_alphabet_word_list = []\n",
    "for word in list(word2embedding.keys()):\n",
    "    if re.match(non_alphabet_pattern, word):\n",
    "        # print(word)\n",
    "        non_alphabet_word_list.append(word)\n",
    "\n",
    "word2embedding[\"[NON_ALPHABET]\"] = torch.mean(\n",
    "    torch.stack([word2embedding[num] for num in non_alphabet_word_list]), \n",
    "    dim=0\n",
    "    )"
   ]
  },
  {
   "cell_type": "code",
   "execution_count": null,
   "metadata": {},
   "outputs": [],
   "source": [
    "non_alphabet_word_list"
   ]
  },
  {
   "cell_type": "code",
   "execution_count": null,
   "metadata": {},
   "outputs": [],
   "source": [
    "word2embedding[\"[NON_ALPHABET]\"], word2embedding[\"[NON_ALPHABET]\"].shape"
   ]
  },
  {
   "attachments": {},
   "cell_type": "markdown",
   "metadata": {},
   "source": [
    "A sample of how we'll use subwords seperated by puctuations to find embeddings of large compund words, not present in `vocab`"
   ]
  },
  {
   "cell_type": "code",
   "execution_count": 37,
   "metadata": {},
   "outputs": [
    {
     "name": "stdout",
     "output_type": "stream",
     "text": [
      "['e', 'x', '-', 'M', 'r', 's', '.']\n",
      "[2, 6]\n",
      "['ex', '-', 'Mrs', '.']\n",
      "tensor([ 7.9575e-02, -3.7300e-02, -2.1530e-01, -1.4200e-02, -1.6500e-03,\n",
      "        -1.2237e-01,  1.7050e-01, -4.2400e-02, -5.5150e-02, -7.7375e-02,\n",
      "        -6.5125e-02,  2.7000e-01, -2.2225e-02, -2.6000e-03, -4.0350e-02,\n",
      "        -5.8175e-02, -2.6825e-02,  1.0875e-02, -8.1950e-02,  9.5975e-02,\n",
      "         3.1750e-03,  2.5700e-02, -9.6450e-02, -1.6780e-01, -2.9275e-02,\n",
      "        -3.0750e-03,  5.5250e-03,  7.0350e-02,  9.0525e-02,  1.4958e-01,\n",
      "         3.6800e-02, -3.3500e-02, -1.0813e-01,  1.6862e-01, -1.0500e-01,\n",
      "        -3.1500e-02, -5.7125e-02,  0.0000e+00, -3.2725e-02, -6.4325e-02,\n",
      "        -9.5225e-02, -3.7150e-02,  1.3418e-01,  1.0030e-01,  1.9827e-01,\n",
      "         3.7025e-02, -1.5350e-02, -7.5175e-02, -6.0300e-02, -2.5732e-01,\n",
      "        -5.3400e-02,  7.7875e-02,  2.9350e-02, -2.5450e-02,  1.7875e-02,\n",
      "        -9.3400e-02, -6.8050e-02,  2.2273e-01,  6.0375e-02,  2.5000e-04,\n",
      "        -7.0575e-02,  1.9107e-01,  4.5425e-02, -7.5250e-03,  5.3400e-02,\n",
      "        -1.7648e-01,  8.2500e-03,  2.2900e-02,  4.6600e-02,  6.3200e-02,\n",
      "        -2.6282e-01, -3.6150e-02, -6.7100e-02, -1.2050e-02,  2.5000e-04,\n",
      "         6.3000e-03, -5.2885e-01,  5.1525e-02, -2.3858e-01,  1.1675e-02,\n",
      "         3.1423e-01, -4.5200e-02,  7.7250e-03,  4.2875e-02, -4.7250e-03,\n",
      "        -2.7500e-04,  6.4475e-02, -2.0750e-03,  7.4375e-02, -6.9850e-02,\n",
      "         5.3700e-02,  1.2870e-01,  1.0925e-02,  2.1650e-02,  1.4250e-02,\n",
      "        -8.0600e-02,  9.5825e-02,  1.6178e-01, -1.9850e-02, -1.4080e-01,\n",
      "        -3.8575e-02, -1.4712e-01, -2.1700e-02,  1.1860e-01,  1.2740e-01,\n",
      "         4.2575e-02, -1.8550e-02,  4.2425e-02, -1.6560e-01,  3.2425e-02,\n",
      "        -1.1775e-02, -1.3778e-01, -6.6150e-02, -3.3150e-02, -4.1045e-01,\n",
      "        -1.9725e-02, -3.8500e-03, -2.2658e-01, -1.6032e-01, -2.5725e-02,\n",
      "        -7.0550e-02, -5.6775e-02,  7.8700e-02,  1.3483e-01,  1.9235e-01,\n",
      "         9.6100e-02,  7.5275e-02, -9.8175e-02,  1.8982e-01, -3.6237e-01,\n",
      "         4.5550e-02, -5.6700e-02,  4.3100e-02, -5.7900e-02,  9.5500e-03,\n",
      "         9.4425e-02,  3.9275e-02, -2.3725e-02,  4.2275e-02, -1.1443e-01,\n",
      "        -2.3125e-02,  1.2270e-01,  4.4450e-02, -2.3825e-01, -5.2225e-02,\n",
      "         1.8082e-01,  1.7180e-01,  9.0050e-02, -4.6100e-02, -1.7100e-02,\n",
      "         1.0577e-01,  2.1305e-01,  5.2275e-02,  9.0400e-02,  1.6550e-02,\n",
      "         2.8975e-02, -8.9725e-02, -1.2658e-01, -4.7250e-02, -1.2425e-02,\n",
      "         5.9022e-01, -9.7125e-02,  4.6800e-02, -1.4175e-01,  8.2500e-03,\n",
      "         6.2950e-02,  4.5900e-02,  6.7575e-02, -4.3900e-02, -9.1000e-03,\n",
      "        -1.1007e-01,  6.5175e-02,  1.3230e-01,  5.9150e-02, -1.9557e-01,\n",
      "         6.9725e-02, -2.9425e-02,  6.8850e-02, -1.0930e-01,  8.2875e-02,\n",
      "        -1.6345e-01, -4.1800e-02,  7.1250e-02,  1.6550e-02,  5.7400e-02,\n",
      "         1.0855e-01,  3.3275e-02, -8.2825e-02, -1.9425e-02, -5.6950e-02,\n",
      "        -1.9050e-02,  1.4000e-02, -2.5575e-02,  8.7250e-03, -3.4325e-02,\n",
      "         5.0625e-02, -2.3375e-02, -3.2625e-02, -9.3625e-02, -6.5700e-02,\n",
      "        -8.0075e-02,  3.5600e-02,  5.0400e-02, -3.5800e-02,  2.7330e-01,\n",
      "         1.1225e-01,  8.3625e-02, -3.7550e-02,  3.5125e-02, -5.6750e-02,\n",
      "         9.4175e-02,  7.0893e-01, -3.5550e-02, -3.8525e-02, -4.5075e-02,\n",
      "         7.4750e-03, -2.4470e-01,  5.0200e-02, -4.9950e-02, -9.0000e-04,\n",
      "        -9.0700e-02,  6.3225e-02, -4.4000e-02,  1.4530e-01, -2.5800e-02,\n",
      "         1.5902e-01, -6.2925e-02,  5.8200e-02, -2.2575e-02, -4.7850e-02,\n",
      "        -7.5375e-02, -7.7475e-02, -1.6692e-01, -1.3250e-02, -1.1265e-01,\n",
      "        -1.5782e-01, -9.8250e-02, -1.9083e-01, -1.1450e-02, -3.5000e-03,\n",
      "         7.0875e-02,  9.5400e-02,  6.1950e-02,  4.7250e-02,  5.5375e-02,\n",
      "         1.3875e-02, -2.9702e-01, -1.4150e-02, -1.5850e-02, -1.6817e-01,\n",
      "        -1.3880e-01,  1.3100e-01, -6.9450e-02,  7.4050e-02, -1.3720e-01,\n",
      "         3.7030e-01,  1.6402e-01, -2.9000e-02, -1.3300e-02,  1.2863e-01,\n",
      "        -7.3125e-02, -1.4650e-02,  4.4875e-02,  1.6925e-02,  1.0060e-01,\n",
      "         6.6300e-02, -4.7025e-02,  8.3600e-02,  5.0001e-05, -2.0250e-03,\n",
      "        -1.3920e-01, -6.9500e-02,  2.0250e-02,  3.3250e-02, -1.1340e-01,\n",
      "         1.7427e-01, -7.3975e-02,  5.0125e-02, -7.3000e-02,  1.9090e-01,\n",
      "         4.3975e-02, -1.7235e-01,  3.3825e-02,  3.6175e-02, -6.7525e-02,\n",
      "         8.2050e-02, -1.2075e-01, -1.2150e-01, -7.7625e-02, -7.6800e-02,\n",
      "         5.5950e-02,  6.9500e-03,  1.8900e-02, -2.9600e-02, -1.0750e-03,\n",
      "        -2.9025e-02,  1.8125e-02,  9.2125e-02,  4.1625e-02, -3.8200e-02])\n"
     ]
    }
   ],
   "source": [
    "letters = list(\"ex-Mrs.\")\n",
    "punctuations = [x for x in string.punctuation]\n",
    "positions = [i for i, x in enumerate(letters) if x in punctuations]\n",
    "\n",
    "print(letters)\n",
    "print(positions)\n",
    "\n",
    "sub_words = []\n",
    "for i, j in zip([0] + positions, positions + [None]):\n",
    "    if i==0:\n",
    "        sub_words.append(\"\".join(letters[i:j]))\n",
    "    else:\n",
    "        sub_words.append(letters[i])\n",
    "        sub_words.append(\"\".join(letters[i+1:j]))\n",
    "    \n",
    "while \"\" in sub_words:\n",
    "    sub_words.remove(\"\")\n",
    "print(sub_words)\n",
    "\n",
    "sub_words_embeddings = []\n",
    "for sub_word in sub_words:\n",
    "    sub_words_embeddings.append(word2embedding[sub_word])\n",
    "\n",
    "print(torch.mean(torch.stack(sub_words_embeddings), dim=0))"
   ]
  },
  {
   "cell_type": "code",
   "execution_count": 38,
   "metadata": {},
   "outputs": [],
   "source": [
    "import string\n",
    "punctuations = [x for x in string.punctuation]\n",
    "\n",
    "word2embedding[\"[UNK]\"] = torch.mean(torch.stack([embedding for _, embedding in word2embedding.items()]), dim=0)\n",
    "\n",
    "set_of_vocab = set(word2embedding.keys())\n",
    "\n",
    "def get_embeddings(word, word2embedding, words_not_present):\n",
    "    if word in word2embedding.keys():\n",
    "        return word2embedding[word]\n",
    "    elif re.match(non_alphabet_pattern, word):\n",
    "        return word2embedding[\"[NON_ALPHABET]\"]\n",
    "    elif decontracted(word) in word2embedding.keys():\n",
    "        return word2embedding[decontracted(word)]\n",
    "    elif decontracted(word).lower() in word2embedding.keys():\n",
    "        return word2embedding[decontracted(word).lower()]\n",
    "    else:\n",
    "        letters = list(word)\n",
    "        positions = [i for i, x in enumerate(letters) if x in punctuations]\n",
    "\n",
    "        sub_words = []\n",
    "        for i, j in zip([0] + positions, positions + [None]):\n",
    "            if i==0:\n",
    "                sub_words.append(\"\".join(letters[i:j]))\n",
    "            else:\n",
    "                sub_words.append(letters[i])\n",
    "                sub_words.append(\"\".join(letters[i+1:j]))\n",
    "            \n",
    "        while \"\" in sub_words:\n",
    "            sub_words.remove(\"\")\n",
    "        \n",
    "        if set(sub_words).issubset(set_of_vocab):\n",
    "            return torch.mean(torch.stack([get_embeddings(sub_word, word2embedding, words_not_present) for sub_word in sub_words]), dim=0)\n",
    "        else:\n",
    "            words_not_present.append(word)\n",
    "            return word2embedding[\"[UNK]\"]\n",
    "            # words_embeddings.append(word2embedding[word])"
   ]
  },
  {
   "cell_type": "code",
   "execution_count": 39,
   "metadata": {},
   "outputs": [
    {
     "name": "stderr",
     "output_type": "stream",
     "text": [
      "100%|██████████| 1161192/1161192 [00:12<00:00, 96309.46it/s] \n"
     ]
    }
   ],
   "source": [
    "words_not_present = list()\n",
    "\n",
    "X_embeddings = list()\n",
    "for words in tqdm(X):\n",
    "    words_embeddings = list()\n",
    "    for word in words:\n",
    "        words_embeddings.append(get_embeddings(word, word2embedding, words_not_present))\n",
    "    X_embeddings.append(torch.stack(words_embeddings))\n",
    "\n",
    "X_embeddings = torch.stack(X_embeddings)"
   ]
  },
  {
   "cell_type": "code",
   "execution_count": 40,
   "metadata": {},
   "outputs": [],
   "source": [
    "with open(\"words_not_present.txt\", \"w\") as f:\n",
    "    for word in words_not_present:\n",
    "        f.write(f\"{word}\\n\")"
   ]
  },
  {
   "cell_type": "code",
   "execution_count": 41,
   "metadata": {},
   "outputs": [
    {
     "data": {
      "text/plain": [
       "7165"
      ]
     },
     "execution_count": 41,
     "metadata": {},
     "output_type": "execute_result"
    }
   ],
   "source": [
    "len(words_not_present)"
   ]
  },
  {
   "cell_type": "code",
   "execution_count": 42,
   "metadata": {},
   "outputs": [
    {
     "data": {
      "text/plain": [
       "1703"
      ]
     },
     "execution_count": 42,
     "metadata": {},
     "output_type": "execute_result"
    }
   ],
   "source": [
    "len(set(words_not_present))"
   ]
  },
  {
   "cell_type": "code",
   "execution_count": 43,
   "metadata": {},
   "outputs": [
    {
     "data": {
      "text/plain": [
       "(2000001, 2000001)"
      ]
     },
     "execution_count": 43,
     "metadata": {},
     "output_type": "execute_result"
    }
   ],
   "source": [
    "vocab = list(word2embedding.keys())\n",
    "len(vocab), len(set(vocab))"
   ]
  },
  {
   "attachments": {},
   "cell_type": "markdown",
   "metadata": {},
   "source": [
    "A dictionary to convert pos tags to ids"
   ]
  },
  {
   "cell_type": "code",
   "execution_count": 44,
   "metadata": {},
   "outputs": [],
   "source": [
    "pos_tag_to_id = dict()\n",
    "for i, tag in enumerate(sorted(universal_tags)):\n",
    "    pos_tag_to_id[tag] = i"
   ]
  },
  {
   "cell_type": "code",
   "execution_count": 45,
   "metadata": {},
   "outputs": [
    {
     "data": {
      "text/plain": [
       "{'.': 0,\n",
       " 'ADJ': 1,\n",
       " 'ADP': 2,\n",
       " 'ADV': 3,\n",
       " 'CONJ': 4,\n",
       " 'DET': 5,\n",
       " 'NOUN': 6,\n",
       " 'NUM': 7,\n",
       " 'PRON': 8,\n",
       " 'PRT': 9,\n",
       " 'VERB': 10,\n",
       " 'X': 11}"
      ]
     },
     "execution_count": 45,
     "metadata": {},
     "output_type": "execute_result"
    }
   ],
   "source": [
    "pos_tag_to_id"
   ]
  },
  {
   "cell_type": "code",
   "execution_count": 46,
   "metadata": {},
   "outputs": [
    {
     "data": {
      "text/plain": [
       "(1161192, 1161192)"
      ]
     },
     "execution_count": 46,
     "metadata": {},
     "output_type": "execute_result"
    }
   ],
   "source": [
    "len(X_embeddings), len(y)"
   ]
  },
  {
   "attachments": {},
   "cell_type": "markdown",
   "metadata": {},
   "source": [
    "Actual conversion of labels (pos tags) to ids below:"
   ]
  },
  {
   "cell_type": "code",
   "execution_count": 47,
   "metadata": {},
   "outputs": [],
   "source": [
    "for i in range(len(y)):\n",
    "    y[i] = torch.tensor(pos_tag_to_id[y[i]])"
   ]
  },
  {
   "cell_type": "code",
   "execution_count": 48,
   "metadata": {},
   "outputs": [],
   "source": [
    "y = torch.stack(y)"
   ]
  },
  {
   "cell_type": "code",
   "execution_count": 49,
   "metadata": {},
   "outputs": [
    {
     "data": {
      "text/plain": [
       "torch.int64"
      ]
     },
     "execution_count": 49,
     "metadata": {},
     "output_type": "execute_result"
    }
   ],
   "source": [
    "y.dtype"
   ]
  },
  {
   "cell_type": "code",
   "execution_count": 50,
   "metadata": {},
   "outputs": [
    {
     "data": {
      "text/plain": [
       "torch.int64"
      ]
     },
     "execution_count": 50,
     "metadata": {},
     "output_type": "execute_result"
    }
   ],
   "source": [
    "y[0].dtype"
   ]
  },
  {
   "cell_type": "code",
   "execution_count": 51,
   "metadata": {},
   "outputs": [
    {
     "data": {
      "text/plain": [
       "(1161192, 1161192)"
      ]
     },
     "execution_count": 51,
     "metadata": {},
     "output_type": "execute_result"
    }
   ],
   "source": [
    "len(X), len(y)"
   ]
  },
  {
   "cell_type": "code",
   "execution_count": 52,
   "metadata": {},
   "outputs": [
    {
     "data": {
      "text/plain": [
       "(torch.Size([1161192, 3, 300]), torch.Size([1161192]))"
      ]
     },
     "execution_count": 52,
     "metadata": {},
     "output_type": "execute_result"
    }
   ],
   "source": [
    "X_embeddings.shape, y.shape"
   ]
  },
  {
   "attachments": {},
   "cell_type": "markdown",
   "metadata": {},
   "source": [
    "## Creating POS-Tagger Model class"
   ]
  },
  {
   "cell_type": "code",
   "execution_count": 53,
   "metadata": {},
   "outputs": [],
   "source": [
    "# Construct a model that subclasses NN.Module\n",
    "\n",
    "class POS_tagger(nn.Module):\n",
    "    def __init__(self, embedding_size, window_size, hidden_layer_size, num_tags, device):\n",
    "        super().__init__()\n",
    "        \n",
    "        self.embedding_size = embedding_size\n",
    "        self.window_size = window_size\n",
    "        self.device = device\n",
    "        self.layers_embeddigs_to_hidden = nn.ModuleList([nn.Linear(in_features=embedding_size, out_features=hidden_layer_size, bias=True) for _ in range(2*window_size + 1)])\n",
    "        self.activation = nn.ReLU()\n",
    "        self.layer_hidden_to_output = nn.Linear(in_features=hidden_layer_size, out_features=num_tags, bias=True)\n",
    "        # self.output_probabilities = nn.Softmax(dim=1)\n",
    "        \n",
    "        \n",
    "        \n",
    "    # Define a `forward()` method that outlines the forward pass (or forward computation) of the model\n",
    "    def forward(self, batched_embeddings):\n",
    "        inputs_to_hidden = torch.stack([\n",
    "            torch.stack([layer(embedding) for embedding, layer in zip(embeddings, self.layers_embeddigs_to_hidden)])\n",
    "            for embeddings in batched_embeddings\n",
    "            ]).to(self.device)\n",
    "        return self.layer_hidden_to_output(self.activation(torch.mean(inputs_to_hidden, dim=1)))\n",
    "        # return self.output_probabilities(self.layer_embeddigs_to_word(self.layer_context_to_embeddings(context_embeddings_average))) "
   ]
  },
  {
   "cell_type": "code",
   "execution_count": 54,
   "metadata": {},
   "outputs": [],
   "source": [
    "# Calculate accuracy\n",
    "def accuracy_fn(y_true, y_pred):\n",
    "    correct = torch.eq(y_true, y_pred).sum().item()      # torch.eq(y_true, y_pred) checks how many of y_true are actually equal to y_pred\n",
    "    accuracy = correct / len(y_pred) * 100\n",
    "    return accuracy"
   ]
  },
  {
   "cell_type": "code",
   "execution_count": 55,
   "metadata": {},
   "outputs": [
    {
     "data": {
      "text/plain": [
       "{0: '.',\n",
       " 1: 'ADJ',\n",
       " 2: 'ADP',\n",
       " 3: 'ADV',\n",
       " 4: 'CONJ',\n",
       " 5: 'DET',\n",
       " 6: 'NOUN',\n",
       " 7: 'NUM',\n",
       " 8: 'PRON',\n",
       " 9: 'PRT',\n",
       " 10: 'VERB',\n",
       " 11: 'X'}"
      ]
     },
     "execution_count": 55,
     "metadata": {},
     "output_type": "execute_result"
    }
   ],
   "source": [
    "id_to_pos_tag = {id: tag for tag, id in pos_tag_to_id.items()}\n",
    "id_to_pos_tag"
   ]
  },
  {
   "attachments": {},
   "cell_type": "markdown",
   "metadata": {},
   "source": [
    "## Stratified K-fold cross valiation training\n",
    "(without shuffling, as we do that in training loop)"
   ]
  },
  {
   "attachments": {},
   "cell_type": "markdown",
   "metadata": {},
   "source": [
    "Data Preparation + Training loop below"
   ]
  },
  {
   "cell_type": "code",
   "execution_count": 70,
   "metadata": {},
   "outputs": [
    {
     "name": "stdout",
     "output_type": "stream",
     "text": [
      "\n",
      "\n",
      "K-Fold Split that is running: 0\n"
     ]
    },
    {
     "name": "stderr",
     "output_type": "stream",
     "text": [
      "100%|██████████| 1134/1134 [02:52<00:00,  6.56it/s, batch_loss=0.116] \n"
     ]
    },
    {
     "name": "stdout",
     "output_type": "stream",
     "text": [
      "Epoch: 0 | Train Loss: 0.11637 | Train Acc: 96.29% | Test Loss: 0.13657 | Test Acc: 96.00%\n"
     ]
    },
    {
     "name": "stderr",
     "output_type": "stream",
     "text": [
      "100%|██████████| 1134/1134 [02:54<00:00,  6.50it/s, batch_loss=0.0801]\n"
     ]
    },
    {
     "name": "stdout",
     "output_type": "stream",
     "text": [
      "Epoch: 1 | Train Loss: 0.08014 | Train Acc: 97.66% | Test Loss: 0.11132 | Test Acc: 96.53%\n"
     ]
    },
    {
     "name": "stderr",
     "output_type": "stream",
     "text": [
      "100%|██████████| 1134/1134 [03:00<00:00,  6.28it/s, batch_loss=0.096] \n"
     ]
    },
    {
     "name": "stdout",
     "output_type": "stream",
     "text": [
      "Epoch: 2 | Train Loss: 0.09601 | Train Acc: 96.88% | Test Loss: 0.09817 | Test Acc: 96.91%\n"
     ]
    },
    {
     "name": "stderr",
     "output_type": "stream",
     "text": [
      "100%|██████████| 1134/1134 [02:55<00:00,  6.47it/s, batch_loss=0.0541]\n"
     ]
    },
    {
     "name": "stdout",
     "output_type": "stream",
     "text": [
      "Epoch: 3 | Train Loss: 0.05414 | Train Acc: 98.63% | Test Loss: 0.09048 | Test Acc: 97.11%\n",
      "\n",
      "\n",
      "K-Fold Split that is running: 1\n"
     ]
    },
    {
     "name": "stderr",
     "output_type": "stream",
     "text": [
      "100%|██████████| 1134/1134 [02:59<00:00,  6.33it/s, batch_loss=0.143] \n"
     ]
    },
    {
     "name": "stdout",
     "output_type": "stream",
     "text": [
      "Epoch: 0 | Train Loss: 0.14321 | Train Acc: 95.90% | Test Loss: 0.14208 | Test Acc: 95.97%\n"
     ]
    },
    {
     "name": "stderr",
     "output_type": "stream",
     "text": [
      "100%|██████████| 1134/1134 [02:56<00:00,  6.42it/s, batch_loss=0.0841]\n"
     ]
    },
    {
     "name": "stdout",
     "output_type": "stream",
     "text": [
      "Epoch: 1 | Train Loss: 0.08408 | Train Acc: 96.68% | Test Loss: 0.11520 | Test Acc: 96.59%\n"
     ]
    },
    {
     "name": "stderr",
     "output_type": "stream",
     "text": [
      "100%|██████████| 1134/1134 [02:45<00:00,  6.86it/s, batch_loss=0.0828]\n"
     ]
    },
    {
     "name": "stdout",
     "output_type": "stream",
     "text": [
      "Epoch: 2 | Train Loss: 0.08278 | Train Acc: 97.07% | Test Loss: 0.10407 | Test Acc: 96.89%\n"
     ]
    },
    {
     "name": "stderr",
     "output_type": "stream",
     "text": [
      "100%|██████████| 1134/1134 [02:57<00:00,  6.39it/s, batch_loss=0.0874]\n"
     ]
    },
    {
     "name": "stdout",
     "output_type": "stream",
     "text": [
      "Epoch: 3 | Train Loss: 0.08736 | Train Acc: 97.07% | Test Loss: 0.09542 | Test Acc: 97.14%\n"
     ]
    }
   ],
   "source": [
    "from sklearn.model_selection import KFold\n",
    "\n",
    "kf = KFold(n_splits=2)\n",
    "\n",
    "per_fold_test_predictions = list()\n",
    "per_fold_test_labels = list()\n",
    "\n",
    "for j, (train_index, test_index) in enumerate(kf.split(X, y)):\n",
    "    print(f\"\\n\\nK-Fold Split that is running: {j}\")\n",
    "    X_train = torch.index_select(X_embeddings, 0, torch.LongTensor(train_index))\n",
    "    X_test = torch.index_select(X_embeddings, 0, torch.LongTensor(test_index))\n",
    "    y_train = torch.index_select(y, 0, torch.LongTensor(train_index))\n",
    "    y_test = torch.index_select(y, 0, torch.LongTensor(test_index))\n",
    "    \n",
    "    # Set the number of epochs\n",
    "    epochs = 4\n",
    "\n",
    "    # Put the data on the target device\n",
    "    X_train, y_train = X_train.to(device), y_train.to(device)\n",
    "    X_test, y_test = X_test.to(device), y_test.to(device)\n",
    "    \n",
    "    pos_tagger = POS_tagger(embedding_size=300, window_size=1, hidden_layer_size=128, num_tags=len(universal_tags), device=device).to(device)\n",
    "    \n",
    "    # Create a loss function\n",
    "    loss_fn = nn.CrossEntropyLoss() # CrossEntropyLoss -> sigmoid activation is built-in\n",
    "\n",
    "    # Create an optimizer\n",
    "    optimizer = torch.optim.Adam(params=pos_tagger.parameters(),\n",
    "                                lr = 1e-3)\n",
    "    \n",
    "    batch_size = 512\n",
    "    # Building the training and evaluation loop\n",
    "    for epoch in range(epochs):\n",
    "        epoch_loss = 0.0\n",
    "        ## Training\n",
    "        pos_tagger.train()\n",
    "        with tqdm(np.random.permutation(range(0, len(X_train), batch_size))) as progress_bar:\n",
    "            for i in progress_bar:\n",
    "                # 1. Forward pass\n",
    "                y_logits = pos_tagger(X_train[i:i+batch_size]).squeeze()      # squeeze removes an extra one dimension from a tensor\n",
    "                # y_pred = torch.argmax(torch.nn.Softmax(y_logits), dim=1)   # Can't make it work with sotmax for some reason\n",
    "                y_pred = torch.argmax(y_logits, dim=1)\n",
    "            \n",
    "                # 2. Calculate loss / accuracy\n",
    "                loss = loss_fn(y_logits,        # nn.CrossEntropyLoss expects raw logits as input\n",
    "                            y_train[i:i+batch_size])\n",
    "            \n",
    "                epoch_loss += loss\n",
    "                \n",
    "                acc = accuracy_fn(y_true=y_train[i:i+batch_size],\n",
    "                                y_pred=y_pred)\n",
    "            \n",
    "                # 3. Optimizer zero grad\n",
    "                optimizer.zero_grad()\n",
    "            \n",
    "                # 4. Loss backward (back propagation)\n",
    "                loss.backward()\n",
    "            \n",
    "                # 5. Optimizer step (gradient descent)\n",
    "                optimizer.step()\n",
    "                \n",
    "                progress_bar.set_postfix(batch_loss=loss.item())\n",
    "            \n",
    "            \n",
    "            ### Testing\n",
    "            pos_tagger.eval()\n",
    "            with torch.inference_mode():\n",
    "                # 1. Forward pass\n",
    "                test_logits = pos_tagger(X_test).squeeze()      # squeeze removes an extra one dimension from a tensor\n",
    "                test_pred = torch.argmax(test_logits, dim=1)\n",
    "                \n",
    "                # 2. Calculate loss / accuracy\n",
    "                test_loss = loss_fn(test_logits,        # nn.CrossEntropyLoss expects raw logits as input\n",
    "                                    y_test)\n",
    "                \n",
    "                test_acc = accuracy_fn(y_true=y_test,\n",
    "                                y_pred=test_pred)\n",
    "                \n",
    "        \n",
    "        # if epoch % 10 == 0:    \n",
    "        print(f\"Epoch: {epoch} | Train Loss: {loss:.5f} | Train Acc: {acc:.2f}% | Test Loss: {test_loss:.5f} | Test Acc: {test_acc:.2f}%\")\n",
    "            \n",
    "    per_fold_test_predictions.append(test_pred)\n",
    "    per_fold_test_labels.append(y_test)"
   ]
  },
  {
   "attachments": {},
   "cell_type": "markdown",
   "metadata": {},
   "source": [
    "### Helper functions to accumulate and display results of K-fold cross validation"
   ]
  },
  {
   "cell_type": "code",
   "execution_count": 137,
   "metadata": {},
   "outputs": [],
   "source": [
    "from sklearn.metrics import classification_report\n",
    "from sklearn.metrics import precision_recall_fscore_support, fbeta_score\n",
    "from sklearn.metrics import confusion_matrix, ConfusionMatrixDisplay\n",
    "import matplotlib.pyplot as plt\n",
    "\n",
    "def get_results_classification(y_true, y_pred, labels, id_to_label, normalized=False):\n",
    "    y_pred_labels = [id_to_label[i] for i in y_pred.cpu().detach().numpy()]\n",
    "    y_true_labels = [id_to_label[i] for i in y_true.cpu().detach().numpy()]\n",
    "    \n",
    "    precision, recall, f1_score, _ = precision_recall_fscore_support(y_true_labels, y_pred_labels, average='macro')\n",
    "    print(f\"\"\"Overall performance:\n",
    "                precision = {precision} \\t recall = {recall} \\t f1-score = {f1_score}\\n \n",
    "          \"\"\")\n",
    "    print(classification_report(y_true_labels, y_pred_labels, target_names=labels))\n",
    "\n",
    "    if normalized:\n",
    "        normalized = 'true'\n",
    "    else:\n",
    "        normalized = None    \n",
    "\n",
    "    cm = confusion_matrix(y_true_labels, y_pred_labels, labels=labels, normalize=normalized)\n",
    "    display = ConfusionMatrixDisplay(confusion_matrix=cm, display_labels=labels)\n",
    "    fig, ax = plt.subplots(figsize=(10, 10))\n",
    "    display.plot(ax=ax, xticks_rotation=\"vertical\")\n",
    "    plt.show()"
   ]
  },
  {
   "cell_type": "code",
   "execution_count": 72,
   "metadata": {},
   "outputs": [],
   "source": [
    "def get_confusion_matrix(y_true, y_pred, labels, id_to_label, normalized=False):\n",
    "    y_pred_labels = [id_to_label[i] for i in y_pred.cpu().detach().numpy()]\n",
    "    y_true_labels = [id_to_label[i] for i in y_true.cpu().detach().numpy()]\n",
    "\n",
    "    if normalized:\n",
    "        normalized = 'true'\n",
    "    else:\n",
    "        normalized = None    \n",
    "\n",
    "    return confusion_matrix(y_true_labels, y_pred_labels, labels=labels, normalize=normalized)"
   ]
  },
  {
   "cell_type": "code",
   "execution_count": 73,
   "metadata": {},
   "outputs": [],
   "source": [
    "def plot_confusion_matrix(cm, labels):\n",
    "    display = ConfusionMatrixDisplay(confusion_matrix=cm, display_labels=labels)\n",
    "    fig, ax = plt.subplots(figsize=(10, 10))\n",
    "    display.plot(ax=ax, xticks_rotation=\"vertical\")\n",
    "    plt.show()"
   ]
  },
  {
   "cell_type": "code",
   "execution_count": 74,
   "metadata": {},
   "outputs": [],
   "source": [
    "def get_overall_metrics(y_true, y_pred, labels, id_to_label):\n",
    "    y_pred_labels = [id_to_label[i] for i in y_pred.cpu().detach().numpy()]\n",
    "    y_true_labels = [id_to_label[i] for i in y_true.cpu().detach().numpy()]\n",
    "    \n",
    "    precision, recall, f1_score, _ = precision_recall_fscore_support(y_true_labels, y_pred_labels, average='macro')\n",
    "    \n",
    "    f_0_5_score = fbeta_score(y_true_labels, y_pred_labels, beta = 0.5, average='macro')\n",
    "    f_2_score = fbeta_score(y_true_labels, y_pred_labels, beta = 2, average='macro')\n",
    "    \n",
    "    return np.array([precision, recall, f1_score, f_0_5_score, f_2_score])"
   ]
  },
  {
   "cell_type": "code",
   "execution_count": 83,
   "metadata": {},
   "outputs": [],
   "source": [
    "def get_classification_report(y_true, y_pred, labels, id_to_label):\n",
    "    y_pred_labels = [id_to_label[i] for i in y_pred.cpu().detach().numpy()]\n",
    "    y_true_labels = [id_to_label[i] for i in y_true.cpu().detach().numpy()]\n",
    "    \n",
    "    return classification_report(y_true_labels, y_pred_labels, target_names=labels, output_dict = True)"
   ]
  },
  {
   "cell_type": "code",
   "execution_count": 138,
   "metadata": {},
   "outputs": [],
   "source": [
    "def get_overall_results(reports):\n",
    "    overall_results = {key: {} if key != 'accuracy' else 0 for key in reports[0].keys()}\n",
    "    \n",
    "    # Initialize an empty dictionary with the same structure as report\n",
    "    overall_results = {key: {} if key != 'accuracy' else 0 for key in reports[0].keys()}\n",
    "\n",
    "    # Loop over all the reports and accumulate the values\n",
    "    for r in reports:\n",
    "        for key, value in r.items():\n",
    "            if key == 'accuracy':\n",
    "                overall_results['accuracy'] = 0.0\n",
    "            else:\n",
    "                overall_results[key]['precision'] = 0.0\n",
    "                overall_results[key]['recall'] = 0.0\n",
    "                overall_results[key]['f1-score'] = 0.0\n",
    "                overall_results[key]['support'] = 0.0\n",
    "\n",
    "    # Loop over all the reports and accumulate the values\n",
    "    for r in reports:\n",
    "        for key, value in r.items():\n",
    "            if key == 'accuracy':\n",
    "                overall_results['accuracy'] += r['accuracy']\n",
    "            else:\n",
    "                overall_results[key]['precision'] += value['precision']\n",
    "                overall_results[key]['recall'] += value['recall']\n",
    "                overall_results[key]['f1-score'] += value['f1-score']\n",
    "                overall_results[key]['support'] += value['support']\n",
    "        \n",
    "\n",
    "    # Calculate the averages by dividing the accumulated values by the number of reports\n",
    "    n_reports = len(reports)\n",
    "    for key, value in overall_results.items():\n",
    "        if key == 'accuracy':\n",
    "            overall_results['accuracy'] /= n_reports\n",
    "        else:\n",
    "            value['precision'] /= n_reports\n",
    "            value['recall'] /= n_reports\n",
    "            value['f1-score'] /= n_reports\n",
    "            value['support'] = int(round(value['support'] / n_reports))\n",
    "            \n",
    "    df_results = pd.DataFrame(overall_results).transpose()\n",
    "    df_results.at[\"accuracy\", \"support\"] = df_results.at[\"macro avg\", \"support\"]\n",
    "    df_results[\"support\"] = df_results[\"support\"].astype(int)\n",
    "    \n",
    "    display(HTML(df_results.to_html()))"
   ]
  },
  {
   "attachments": {},
   "cell_type": "markdown",
   "metadata": {},
   "source": [
    "## Evaluation of predictions from K-fold training"
   ]
  },
  {
   "cell_type": "code",
   "execution_count": 76,
   "metadata": {},
   "outputs": [
    {
     "name": "stdout",
     "output_type": "stream",
     "text": [
      "Overall performance:\n",
      "                precision = 0.9583144758744756 \t recall = 0.9151313732546774 \t f1-score = 0.929708409063668\n",
      " \n",
      "          \n",
      "              precision    recall  f1-score   support\n",
      "\n",
      "           .       1.00      1.00      1.00     69655\n",
      "         ADJ       0.92      0.92      0.92     44533\n",
      "         ADP       0.98      0.98      0.98     74178\n",
      "         ADV       0.95      0.91      0.93     26828\n",
      "        CONJ       0.99      0.99      0.99     19029\n",
      "         DET       0.99      1.00      0.99     69824\n",
      "        NOUN       0.96      0.98      0.97    146397\n",
      "         NUM       0.97      0.95      0.96      7830\n",
      "        PRON       0.98      0.98      0.98     20546\n",
      "         PRT       0.94      0.93      0.93     13405\n",
      "        VERB       0.98      0.96      0.97     87637\n",
      "           X       0.84      0.39      0.53       734\n",
      "\n",
      "    accuracy                           0.97    580596\n",
      "   macro avg       0.96      0.92      0.93    580596\n",
      "weighted avg       0.97      0.97      0.97    580596\n",
      "\n"
     ]
    },
    {
     "data": {
      "image/png": "[encoded data removed]",
      "text/plain": [
       "<Figure size 1000x1000 with 2 Axes>"
      ]
     },
     "metadata": {},
     "output_type": "display_data"
    },
    {
     "name": "stdout",
     "output_type": "stream",
     "text": [
      "Overall performance:\n",
      "                precision = 0.9469166766993206 \t recall = 0.9217906017036825 \t f1-score = 0.931347713266134\n",
      " \n",
      "          \n",
      "              precision    recall  f1-score   support\n",
      "\n",
      "           .       1.00      1.00      1.00     77910\n",
      "         ADJ       0.93      0.91      0.92     39188\n",
      "         ADP       0.97      0.98      0.98     70588\n",
      "         ADV       0.94      0.92      0.93     29411\n",
      "        CONJ       0.99      1.00      0.99     19122\n",
      "         DET       0.99      0.99      0.99     67195\n",
      "        NOUN       0.97      0.97      0.97    129161\n",
      "         NUM       0.96      0.98      0.97      7044\n",
      "        PRON       0.96      0.99      0.97     28788\n",
      "         PRT       0.92      0.90      0.91     16424\n",
      "        VERB       0.98      0.97      0.98     95113\n",
      "           X       0.75      0.46      0.57       652\n",
      "\n",
      "    accuracy                           0.97    580596\n",
      "   macro avg       0.95      0.92      0.93    580596\n",
      "weighted avg       0.97      0.97      0.97    580596\n",
      "\n"
     ]
    },
    {
     "data": {
      "image/png": "[encoded data removed]",
      "text/plain": [
       "<Figure size 1000x1000 with 2 Axes>"
      ]
     },
     "metadata": {},
     "output_type": "display_data"
    }
   ],
   "source": [
    "for y_test, test_pred in zip(per_fold_test_labels, per_fold_test_predictions):\n",
    "    get_results_classification(y_true=y_test, y_pred=test_pred, labels=sorted(universal_tags), id_to_label=id_to_pos_tag, normalized=False)"
   ]
  },
  {
   "cell_type": "code",
   "execution_count": 77,
   "metadata": {},
   "outputs": [],
   "source": [
    "cm = np.mean([\n",
    "    get_confusion_matrix(y_true=y_test, y_pred=test_pred, labels=sorted(universal_tags), id_to_label=id_to_pos_tag, normalized=False)\n",
    "    for y_test, test_pred in zip(per_fold_test_labels, per_fold_test_predictions) \n",
    "], axis=0).astype(int)"
   ]
  },
  {
   "cell_type": "code",
   "execution_count": 78,
   "metadata": {},
   "outputs": [
    {
     "data": {
      "image/png": "[encoded data removed]",
      "text/plain": [
       "<Figure size 1000x1000 with 2 Axes>"
      ]
     },
     "metadata": {},
     "output_type": "display_data"
    }
   ],
   "source": [
    "plot_confusion_matrix(cm=cm, labels=sorted(universal_tags))"
   ]
  },
  {
   "cell_type": "code",
   "execution_count": 79,
   "metadata": {},
   "outputs": [],
   "source": [
    "overall_metrics = np.mean([\n",
    "    get_overall_metrics(y_true=y_test, y_pred=test_pred, labels=sorted(universal_tags), id_to_label=id_to_pos_tag)\n",
    "    for y_test, test_pred in zip(per_fold_test_labels, per_fold_test_predictions) \n",
    "], axis=0)"
   ]
  },
  {
   "cell_type": "code",
   "execution_count": 80,
   "metadata": {},
   "outputs": [
    {
     "name": "stdout",
     "output_type": "stream",
     "text": [
      "Overall performance of model:       \n",
      "\tPrecision: 0.9526155762868981       \n",
      "\tRecall: 0.91846098747918       \n",
      "\tF1-score: 0.9305280611649009       \n",
      "\tF0.5-score: 0.9417824601317095       \n",
      "\tF2-score: 0.9226099030449179\n"
     ]
    }
   ],
   "source": [
    "print(f\"Overall performance of model: \\\n",
    "      \\n\\tPrecision: {overall_metrics[0]} \\\n",
    "      \\n\\tRecall: {overall_metrics[1]} \\\n",
    "      \\n\\tF1-score: {overall_metrics[2]} \\\n",
    "      \\n\\tF0.5-score: {overall_metrics[3]} \\\n",
    "      \\n\\tF2-score: {overall_metrics[4]}\")"
   ]
  },
  {
   "cell_type": "code",
   "execution_count": 94,
   "metadata": {},
   "outputs": [],
   "source": [
    "reports = [\n",
    "    get_classification_report(y_true=y_test, y_pred=test_pred, labels=sorted(universal_tags), id_to_label=id_to_pos_tag)\n",
    "    for y_test, test_pred in zip(per_fold_test_labels, per_fold_test_predictions) \n",
    "]"
   ]
  },
  {
   "cell_type": "code",
   "execution_count": 128,
   "metadata": {},
   "outputs": [
    {
     "data": {
      "text/html": [
       "<table border=\"1\" class=\"dataframe\">\n",
       "  <thead>\n",
       "    <tr style=\"text-align: right;\">\n",
       "      <th></th>\n",
       "      <th>precision</th>\n",
       "      <th>recall</th>\n",
       "      <th>f1-score</th>\n",
       "      <th>support</th>\n",
       "    </tr>\n",
       "  </thead>\n",
       "  <tbody>\n",
       "    <tr>\n",
       "      <th>.</th>\n",
       "      <td>0.998734</td>\n",
       "      <td>0.999971</td>\n",
       "      <td>0.999352</td>\n",
       "      <td>73782</td>\n",
       "    </tr>\n",
       "    <tr>\n",
       "      <th>ADJ</th>\n",
       "      <td>0.923112</td>\n",
       "      <td>0.918284</td>\n",
       "      <td>0.920651</td>\n",
       "      <td>41860</td>\n",
       "    </tr>\n",
       "    <tr>\n",
       "      <th>ADP</th>\n",
       "      <td>0.975229</td>\n",
       "      <td>0.979327</td>\n",
       "      <td>0.977274</td>\n",
       "      <td>72383</td>\n",
       "    </tr>\n",
       "    <tr>\n",
       "      <th>ADV</th>\n",
       "      <td>0.940923</td>\n",
       "      <td>0.915777</td>\n",
       "      <td>0.928158</td>\n",
       "      <td>28120</td>\n",
       "    </tr>\n",
       "    <tr>\n",
       "      <th>CONJ</th>\n",
       "      <td>0.993432</td>\n",
       "      <td>0.993835</td>\n",
       "      <td>0.993630</td>\n",
       "      <td>19076</td>\n",
       "    </tr>\n",
       "    <tr>\n",
       "      <th>DET</th>\n",
       "      <td>0.991169</td>\n",
       "      <td>0.992365</td>\n",
       "      <td>0.991761</td>\n",
       "      <td>68510</td>\n",
       "    </tr>\n",
       "    <tr>\n",
       "      <th>NOUN</th>\n",
       "      <td>0.962999</td>\n",
       "      <td>0.975138</td>\n",
       "      <td>0.969026</td>\n",
       "      <td>137779</td>\n",
       "    </tr>\n",
       "    <tr>\n",
       "      <th>NUM</th>\n",
       "      <td>0.969201</td>\n",
       "      <td>0.964129</td>\n",
       "      <td>0.966548</td>\n",
       "      <td>7437</td>\n",
       "    </tr>\n",
       "    <tr>\n",
       "      <th>PRON</th>\n",
       "      <td>0.974821</td>\n",
       "      <td>0.982547</td>\n",
       "      <td>0.978628</td>\n",
       "      <td>24667</td>\n",
       "    </tr>\n",
       "    <tr>\n",
       "      <th>PRT</th>\n",
       "      <td>0.931380</td>\n",
       "      <td>0.912135</td>\n",
       "      <td>0.921649</td>\n",
       "      <td>14914</td>\n",
       "    </tr>\n",
       "    <tr>\n",
       "      <th>VERB</th>\n",
       "      <td>0.977694</td>\n",
       "      <td>0.967484</td>\n",
       "      <td>0.972542</td>\n",
       "      <td>91375</td>\n",
       "    </tr>\n",
       "    <tr>\n",
       "      <th>X</th>\n",
       "      <td>0.792694</td>\n",
       "      <td>0.420540</td>\n",
       "      <td>0.547119</td>\n",
       "      <td>693</td>\n",
       "    </tr>\n",
       "    <tr>\n",
       "      <th>accuracy</th>\n",
       "      <td>0.971263</td>\n",
       "      <td>0.971263</td>\n",
       "      <td>0.971263</td>\n",
       "      <td>580596</td>\n",
       "    </tr>\n",
       "    <tr>\n",
       "      <th>macro avg</th>\n",
       "      <td>0.952616</td>\n",
       "      <td>0.918461</td>\n",
       "      <td>0.930528</td>\n",
       "      <td>580596</td>\n",
       "    </tr>\n",
       "    <tr>\n",
       "      <th>weighted avg</th>\n",
       "      <td>0.971136</td>\n",
       "      <td>0.971263</td>\n",
       "      <td>0.971089</td>\n",
       "      <td>580596</td>\n",
       "    </tr>\n",
       "  </tbody>\n",
       "</table>"
      ],
      "text/plain": [
       "<IPython.core.display.HTML object>"
      ]
     },
     "metadata": {},
     "output_type": "display_data"
    }
   ],
   "source": [
    "get_overall_results(reports)"
   ]
  },
  {
   "attachments": {},
   "cell_type": "markdown",
   "metadata": {},
   "source": [
    "## Code for Demo of POS Tagging"
   ]
  },
  {
   "cell_type": "code",
   "execution_count": 130,
   "metadata": {},
   "outputs": [],
   "source": [
    "from nltk.tokenize import word_tokenize"
   ]
  },
  {
   "cell_type": "code",
   "execution_count": 131,
   "metadata": {},
   "outputs": [],
   "source": [
    "def get_pos_tags(sentence):\n",
    "    tokens = word_tokenize(sentence)\n",
    "    test = list()\n",
    "\n",
    "    null_token = \"[NULL_TOKEN]\"\n",
    "    for i in range(len(tokens)):\n",
    "        padded_sentence = [null_token] * window_size + tokens + [null_token] * window_size\n",
    "        test.append(padded_sentence[i : i + 2*window_size + 1])\n",
    "    \n",
    "    test_embeddings = list()\n",
    "    words_not_present = list()\n",
    "\n",
    "    for words in test:\n",
    "        words_embeddings = list()\n",
    "        for word in words:\n",
    "            words_embeddings.append(get_embeddings(word, word2embedding, words_not_present))\n",
    "        test_embeddings.append(torch.stack(words_embeddings))\n",
    "\n",
    "    test_embeddings = torch.stack(test_embeddings)\n",
    "    \n",
    "    pos_tagger.eval()\n",
    "    with torch.inference_mode():\n",
    "        # 1. Forward pass\n",
    "        test_logits = pos_tagger(test_embeddings.to(device)).squeeze()      # squeeze removes an extra one dimension from a tensor\n",
    "        test_pred = torch.argmax(test_logits, dim=1)\n",
    "        \n",
    "    test_pred = [id_to_pos_tag[id] for id in test_pred.cpu().detach().numpy()]\n",
    "    \n",
    "    df_test = pd.DataFrame.from_dict({\n",
    "        \"tokens\": tokens,\n",
    "        \"POS Tags\": test_pred\n",
    "    })\n",
    "    \n",
    "    display(HTML(df_test.to_html()))"
   ]
  },
  {
   "attachments": {},
   "cell_type": "markdown",
   "metadata": {},
   "source": [
    "Sample input sentence:\n",
    "\n",
    "Good muffins cost $3.88 in New York. Please buy me ... two of them. Thanks."
   ]
  },
  {
   "cell_type": "code",
   "execution_count": 132,
   "metadata": {},
   "outputs": [],
   "source": [
    "sentence = input(\"Please enter sentence to perform POS Tagging:\\n\")"
   ]
  },
  {
   "cell_type": "code",
   "execution_count": 133,
   "metadata": {},
   "outputs": [
    {
     "data": {
      "text/html": [
       "<table border=\"1\" class=\"dataframe\">\n",
       "  <thead>\n",
       "    <tr style=\"text-align: right;\">\n",
       "      <th></th>\n",
       "      <th>tokens</th>\n",
       "      <th>POS Tags</th>\n",
       "    </tr>\n",
       "  </thead>\n",
       "  <tbody>\n",
       "    <tr>\n",
       "      <th>0</th>\n",
       "      <td>Good</td>\n",
       "      <td>ADJ</td>\n",
       "    </tr>\n",
       "    <tr>\n",
       "      <th>1</th>\n",
       "      <td>muffins</td>\n",
       "      <td>NOUN</td>\n",
       "    </tr>\n",
       "    <tr>\n",
       "      <th>2</th>\n",
       "      <td>cost</td>\n",
       "      <td>VERB</td>\n",
       "    </tr>\n",
       "    <tr>\n",
       "      <th>3</th>\n",
       "      <td>$</td>\n",
       "      <td>NOUN</td>\n",
       "    </tr>\n",
       "    <tr>\n",
       "      <th>4</th>\n",
       "      <td>3.88</td>\n",
       "      <td>NUM</td>\n",
       "    </tr>\n",
       "    <tr>\n",
       "      <th>5</th>\n",
       "      <td>in</td>\n",
       "      <td>ADP</td>\n",
       "    </tr>\n",
       "    <tr>\n",
       "      <th>6</th>\n",
       "      <td>New</td>\n",
       "      <td>ADJ</td>\n",
       "    </tr>\n",
       "    <tr>\n",
       "      <th>7</th>\n",
       "      <td>York</td>\n",
       "      <td>NOUN</td>\n",
       "    </tr>\n",
       "    <tr>\n",
       "      <th>8</th>\n",
       "      <td>.</td>\n",
       "      <td>.</td>\n",
       "    </tr>\n",
       "    <tr>\n",
       "      <th>9</th>\n",
       "      <td>Please</td>\n",
       "      <td>NOUN</td>\n",
       "    </tr>\n",
       "    <tr>\n",
       "      <th>10</th>\n",
       "      <td>buy</td>\n",
       "      <td>VERB</td>\n",
       "    </tr>\n",
       "    <tr>\n",
       "      <th>11</th>\n",
       "      <td>me</td>\n",
       "      <td>PRON</td>\n",
       "    </tr>\n",
       "    <tr>\n",
       "      <th>12</th>\n",
       "      <td>...</td>\n",
       "      <td>.</td>\n",
       "    </tr>\n",
       "    <tr>\n",
       "      <th>13</th>\n",
       "      <td>two</td>\n",
       "      <td>NUM</td>\n",
       "    </tr>\n",
       "    <tr>\n",
       "      <th>14</th>\n",
       "      <td>of</td>\n",
       "      <td>ADP</td>\n",
       "    </tr>\n",
       "    <tr>\n",
       "      <th>15</th>\n",
       "      <td>them</td>\n",
       "      <td>PRON</td>\n",
       "    </tr>\n",
       "    <tr>\n",
       "      <th>16</th>\n",
       "      <td>.</td>\n",
       "      <td>.</td>\n",
       "    </tr>\n",
       "    <tr>\n",
       "      <th>17</th>\n",
       "      <td>Thanks</td>\n",
       "      <td>NOUN</td>\n",
       "    </tr>\n",
       "    <tr>\n",
       "      <th>18</th>\n",
       "      <td>.</td>\n",
       "      <td>.</td>\n",
       "    </tr>\n",
       "  </tbody>\n",
       "</table>"
      ],
      "text/plain": [
       "<IPython.core.display.HTML object>"
      ]
     },
     "metadata": {},
     "output_type": "display_data"
    }
   ],
   "source": [
    "get_pos_tags(sentence)"
   ]
  },
  {
   "cell_type": "code",
   "execution_count": 134,
   "metadata": {},
   "outputs": [
    {
     "data": {
      "text/html": [
       "<table border=\"1\" class=\"dataframe\">\n",
       "  <thead>\n",
       "    <tr style=\"text-align: right;\">\n",
       "      <th></th>\n",
       "      <th>tokens</th>\n",
       "      <th>POS Tags</th>\n",
       "    </tr>\n",
       "  </thead>\n",
       "  <tbody>\n",
       "    <tr>\n",
       "      <th>0</th>\n",
       "      <td>Let</td>\n",
       "      <td>VERB</td>\n",
       "    </tr>\n",
       "    <tr>\n",
       "      <th>1</th>\n",
       "      <td>'s</td>\n",
       "      <td>VERB</td>\n",
       "    </tr>\n",
       "    <tr>\n",
       "      <th>2</th>\n",
       "      <td>watch</td>\n",
       "      <td>VERB</td>\n",
       "    </tr>\n",
       "    <tr>\n",
       "      <th>3</th>\n",
       "      <td>cricket</td>\n",
       "      <td>NOUN</td>\n",
       "    </tr>\n",
       "    <tr>\n",
       "      <th>4</th>\n",
       "      <td>.</td>\n",
       "      <td>.</td>\n",
       "    </tr>\n",
       "    <tr>\n",
       "      <th>5</th>\n",
       "      <td>But</td>\n",
       "      <td>CONJ</td>\n",
       "    </tr>\n",
       "    <tr>\n",
       "      <th>6</th>\n",
       "      <td>do</td>\n",
       "      <td>VERB</td>\n",
       "    </tr>\n",
       "    <tr>\n",
       "      <th>7</th>\n",
       "      <td>n't</td>\n",
       "      <td>NOUN</td>\n",
       "    </tr>\n",
       "    <tr>\n",
       "      <th>8</th>\n",
       "      <td>mind</td>\n",
       "      <td>VERB</td>\n",
       "    </tr>\n",
       "    <tr>\n",
       "      <th>9</th>\n",
       "      <td>my</td>\n",
       "      <td>DET</td>\n",
       "    </tr>\n",
       "    <tr>\n",
       "      <th>10</th>\n",
       "      <td>friend</td>\n",
       "      <td>NOUN</td>\n",
       "    </tr>\n",
       "    <tr>\n",
       "      <th>11</th>\n",
       "      <td>who</td>\n",
       "      <td>PRON</td>\n",
       "    </tr>\n",
       "    <tr>\n",
       "      <th>12</th>\n",
       "      <td>does</td>\n",
       "      <td>VERB</td>\n",
       "    </tr>\n",
       "    <tr>\n",
       "      <th>13</th>\n",
       "      <td>not</td>\n",
       "      <td>ADV</td>\n",
       "    </tr>\n",
       "    <tr>\n",
       "      <th>14</th>\n",
       "      <td>watch</td>\n",
       "      <td>VERB</td>\n",
       "    </tr>\n",
       "    <tr>\n",
       "      <th>15</th>\n",
       "      <td>cricket</td>\n",
       "      <td>NOUN</td>\n",
       "    </tr>\n",
       "    <tr>\n",
       "      <th>16</th>\n",
       "      <td>but</td>\n",
       "      <td>CONJ</td>\n",
       "    </tr>\n",
       "    <tr>\n",
       "      <th>17</th>\n",
       "      <td>pretends</td>\n",
       "      <td>VERB</td>\n",
       "    </tr>\n",
       "    <tr>\n",
       "      <th>18</th>\n",
       "      <td>to</td>\n",
       "      <td>PRT</td>\n",
       "    </tr>\n",
       "    <tr>\n",
       "      <th>19</th>\n",
       "      <td>.</td>\n",
       "      <td>.</td>\n",
       "    </tr>\n",
       "  </tbody>\n",
       "</table>"
      ],
      "text/plain": [
       "<IPython.core.display.HTML object>"
      ]
     },
     "metadata": {},
     "output_type": "display_data"
    }
   ],
   "source": [
    "sentence = \"Let's watch cricket. But don't mind my friend who does not watch cricket but pretends to.\"\n",
    "get_pos_tags(sentence)"
   ]
  }
 ],
 "metadata": {
  "kernelspec": {
   "display_name": "stable",
   "language": "python",
   "name": "python3"
  },
  "language_info": {
   "codemirror_mode": {
    "name": "ipython",
    "version": 3
   },
   "file_extension": ".py",
   "mimetype": "text/x-python",
   "name": "python",
   "nbconvert_exporter": "python",
   "pygments_lexer": "ipython3",
   "version": "3.10.9"
  },
  "orig_nbformat": 4
 },
 "nbformat": 4,
 "nbformat_minor": 2
}
